{
  "nbformat": 4,
  "nbformat_minor": 0,
  "metadata": {
    "colab": {
      "provenance": [],
      "mount_file_id": "1w1-5EU27SOAQ9PH0E0khMk8B_x_DGL1Q",
      "authorship_tag": "ABX9TyNL3h3F4ohDcadCYmaHDl9f",
      "include_colab_link": true
    },
    "kernelspec": {
      "name": "python3",
      "display_name": "Python 3"
    },
    "language_info": {
      "name": "python"
    }
  },
  "cells": [
    {
      "cell_type": "markdown",
      "metadata": {
        "id": "view-in-github",
        "colab_type": "text"
      },
      "source": [
        "<a href=\"https://colab.research.google.com/github/Bouza1/ImageZooming/blob/master/builds_format.ipynb\" target=\"_parent\"><img src=\"https://colab.research.google.com/assets/colab-badge.svg\" alt=\"Open In Colab\"/></a>"
      ]
    },
    {
      "cell_type": "markdown",
      "source": [
        "# BU Buildings"
      ],
      "metadata": {
        "id": "0OpyPZkJTM0R"
      }
    },
    {
      "cell_type": "code",
      "source": [
        "import pandas as pd\n",
        "import numpy as np\n",
        "import json"
      ],
      "metadata": {
        "id": "hH22na2A48Lh"
      },
      "execution_count": 102,
      "outputs": []
    },
    {
      "cell_type": "markdown",
      "source": [
        "### Utilitiy"
      ],
      "metadata": {
        "id": "mST7WWI841-K"
      }
    },
    {
      "cell_type": "code",
      "execution_count": 103,
      "metadata": {
        "id": "nmzvDHkiTL51"
      },
      "outputs": [],
      "source": [
        "energy = {\n",
        "    'electricity':{'price':0.45, 'unit':'kwh'},\n",
        "    'gas':{'price':0.107, 'unit':'kwh'},\n",
        "    'water':{'price':0.370, 'unit':'m3'}\n",
        "}\n",
        "\n",
        "carbon_cost = {\n",
        "    'electricity':{'carbon':0.193, 'unit':'kgCO2e / kWh'},\n",
        "    'gas':{'carbon':0.180, 'unit':'kgCO2e / kWh'},\n",
        "    'water':{'carbon':0.149, 'unit':'kgCO2e / kWh'}\n",
        "}"
      ]
    },
    {
      "cell_type": "code",
      "source": [
        "buildings = {\n",
        "    'PGB':{\n",
        "        'dataset':'PGB.csv',\n",
        "        'mains_electric':True,\n",
        "        'solar_electric':True,\n",
        "        'mains_gas':True,\n",
        "        'heat_pump':True,\n",
        "        'mains_water': False,\n",
        "        'rain_harvest':True,\n",
        "        'consumption_totals':{\n",
        "            'electric_consumption':0,\n",
        "            'heat_consumption':0,\n",
        "            'water_consumption':0\n",
        "        },\n",
        "        'footprint':{\n",
        "            'electric_co2':0,\n",
        "            'heating_co2':0,\n",
        "            'water_co2':0\n",
        "        },\n",
        "        'cost_totals':{\n",
        "            'electric_cost':0,\n",
        "            'heating_cost':0,\n",
        "            'water_cost':0\n",
        "        }\n",
        "    },\n",
        "    'DH':{\n",
        "        'dataset':'DH.csv',\n",
        "        'mains_electric':True,\n",
        "        'solar_electric':True,\n",
        "        'mains_gas':True,\n",
        "        'heat_pump':True,\n",
        "        'mains_water': False,\n",
        "        'rain_harvest':True,\n",
        "        'consumption_totals':{\n",
        "            'electric_consumption':0,\n",
        "            'heat_consumption':0,\n",
        "            'water_consumption':0\n",
        "        },\n",
        "        'footprint':{\n",
        "            'electric_co2':0,\n",
        "            'heating_co2':0,\n",
        "            'water_co2':0\n",
        "        },\n",
        "        'cost_totals':{\n",
        "            'electric_cost':0,\n",
        "            'heating_cost':0,\n",
        "            'water_cost':0\n",
        "        }\n",
        "    },\n",
        "    'KH':{\n",
        "        'dataset':'KH.csv',\n",
        "        'mains_electric':True,\n",
        "        'solar_electric':True,\n",
        "        'mains_gas':True,\n",
        "        'heat_pump':True,\n",
        "        'mains_water': False,\n",
        "        'rain_harvest':True,\n",
        "        'consumption_totals':{\n",
        "            'electric_consumption':0,\n",
        "            'heat_consumption':0,\n",
        "            'water_consumption':0\n",
        "        },\n",
        "        'footprint':{\n",
        "            'electric_co2':0,\n",
        "            'heating_co2':0,\n",
        "            'water_co2':0\n",
        "        },\n",
        "        'cost_totals':{\n",
        "            'electric_cost':0,\n",
        "            'heating_cost':0,\n",
        "            'water_cost':0\n",
        "        }\n",
        "    },\n",
        "    'FB':{\n",
        "        'dataset':'FB.csv',\n",
        "        'mains_electric':True,\n",
        "        'solar_electric':True,\n",
        "        'mains_gas':True,\n",
        "        'heat_pump':True,\n",
        "        'mains_water': False,\n",
        "        'rain_harvest':True,\n",
        "        'consumption_totals':{\n",
        "            'electric_consumption':0,\n",
        "            'heat_consumption':0,\n",
        "            'water_consumption':0\n",
        "        },\n",
        "        'footprint':{\n",
        "            'electric_co2':0,\n",
        "            'heating_co2':0,\n",
        "            'water_co2':0\n",
        "        },\n",
        "        'cost_totals':{\n",
        "            'electric_cost':0,\n",
        "            'heating_cost':0,\n",
        "            'water_cost':0\n",
        "        }\n",
        "    }\n",
        "}"
      ],
      "metadata": {
        "id": "ciOm_rGH3U3W"
      },
      "execution_count": 104,
      "outputs": []
    },
    {
      "cell_type": "code",
      "source": [
        "from google.colab import drive\n",
        "drive.mount('/content/drive')"
      ],
      "metadata": {
        "colab": {
          "base_uri": "https://localhost:8080/"
        },
        "id": "HJ8RfRTx56qF",
        "outputId": "534ff38a-b73f-43d7-ff48-340ec3f3cc16"
      },
      "execution_count": 105,
      "outputs": [
        {
          "output_type": "stream",
          "name": "stdout",
          "text": [
            "Drive already mounted at /content/drive; to attempt to forcibly remount, call drive.mount(\"/content/drive\", force_remount=True).\n"
          ]
        }
      ]
    },
    {
      "cell_type": "code",
      "source": [
        "def load_dataset(name):\n",
        "  return pd.read_csv(f'/content/drive/MyDrive/{name}')"
      ],
      "metadata": {
        "id": "VdrLm6fh6CKO"
      },
      "execution_count": 106,
      "outputs": []
    },
    {
      "cell_type": "code",
      "source": [
        "def format_dataset(dataset):\n",
        "  ## Change Column Names\n",
        "  if 'Incoming Grid electricity (kWh)' in dataset.columns:\n",
        "    dataset.rename(columns={'Incoming Grid electricity (kWh)': 'Mains Electric'}, inplace=True)\n",
        "  if 'Solar Electricity Production (kWh)' in dataset.columns:\n",
        "    dataset.rename(columns={'Solar Electricity Production (kWh)': 'Solar Electric'}, inplace=True)\n",
        "  if 'Incoming mains Gas (kWh)' in dataset.columns:\n",
        "    dataset.rename(columns={'Incoming mains Gas (kWh)': 'Mains Gas'}, inplace=True)\n",
        "  if 'Incoming Mains Water  (m3)' in dataset.columns:\n",
        "    dataset.rename(columns={'Incoming Mains Water  (m3)': 'Mains Water'}, inplace=True)\n",
        "  if 'Ground Source Heat Pump heating energy (kWh)' in dataset.columns:\n",
        "    dataset.rename(columns={'Ground Source Heat Pump heating energy (kWh)': 'Heat Pump'}, inplace=True)\n",
        "  if 'Rainwater harvesting (m3)' in dataset.columns:\n",
        "    dataset.rename(columns={'Rainwater harvesting (m3)': 'Rain Harvest'}, inplace=True)\n",
        "  ## Replace Blank Values With 0\n",
        "  dataset.replace('', np.nan, inplace=True)\n",
        "  dataset.fillna(0, inplace=True)\n",
        "\n",
        "  return dataset"
      ],
      "metadata": {
        "id": "dgDB561pOjif"
      },
      "execution_count": 107,
      "outputs": []
    },
    {
      "cell_type": "code",
      "source": [
        "for key, building in buildings.items():\n",
        "    building['dataset'] = format_dataset(load_dataset(building['dataset']))"
      ],
      "metadata": {
        "id": "LBy4d_FCMfs-"
      },
      "execution_count": 108,
      "outputs": []
    },
    {
      "cell_type": "code",
      "source": [
        "# buildings['PGB']['dataset'].info()\n",
        "# buildings['DH']['dataset'].info()\n",
        "# buildings['KH']['dataset'].info()\n",
        "# buildings['FB']['dataset'].info()"
      ],
      "metadata": {
        "id": "8b5jnZFCMFzO"
      },
      "execution_count": 109,
      "outputs": []
    },
    {
      "cell_type": "code",
      "source": [
        "def make_energy_consumptions(building):\n",
        "  temp_df = building['dataset']\n",
        "  # Electric Consumption\n",
        "  if 'Mains Electric' in temp_df.columns:\n",
        "     building['consumption_totals']['electric_consumption']= round((building['consumption_totals']['electric_consumption'] + temp_df['Mains Electric'].sum()), 2)\n",
        "  if 'Solar Electric' in temp_df.columns:\n",
        "    building['consumption_totals']['electric_consumption'] = round((building['consumption_totals']['electric_consumption'] + temp_df['Solar Electric'].sum()),2)\n",
        "  # Heating Consumption\n",
        "  if 'Mains Gas' in temp_df.columns:\n",
        "    building['consumption_totals']['heat_consumption'] = round(building['consumption_totals']['heat_consumption'] + temp_df['Mains Gas'].sum(),2)\n",
        "  if 'Heat Pump'in temp_df.columns:\n",
        "    building['consumption_totals']['heat_consumption'] = round((building['consumption_totals']['heat_consumption'] + temp_df['Heat Pump'].sum()),2)\n",
        "  # Water Consumption\n",
        "  if 'Mains Water' in temp_df.columns:\n",
        "    building['consumption_totals']['water_consumption'] = round((building['consumption_totals']['water_consumption'] + temp_df['Mains Water'].sum()),2)\n",
        "  if 'Rain Harvest'in temp_df.columns:\n",
        "    building['consumption_totals']['water_consumption'] = round((building['consumption_totals']['water_consumption'] + temp_df['Rain Harvest'].sum()),2)\n",
        "\n"
      ],
      "metadata": {
        "id": "yUWAnmHQS9Sk"
      },
      "execution_count": 110,
      "outputs": []
    },
    {
      "cell_type": "code",
      "source": [
        "for key, building in buildings.items():\n",
        "  make_energy_consumptions(building)\n",
        "  print(f\"{key} - Consumption Totals\")\n",
        "  print(f\"Total Electric Consumption: {building['consumption_totals']['electric_consumption']}\")\n",
        "  print(f\"Total Heating Consumption: {building['consumption_totals']['heat_consumption']}\")\n",
        "  print(f\"Total Water Consumption: {building['consumption_totals']['water_consumption']}\")"
      ],
      "metadata": {
        "colab": {
          "base_uri": "https://localhost:8080/"
        },
        "id": "pjqyMj8OTnpB",
        "outputId": "0eb130ad-dde3-4610-912b-ccfa737579a8"
      },
      "execution_count": 111,
      "outputs": [
        {
          "output_type": "stream",
          "name": "stdout",
          "text": [
            "PGB - Consumption Totals\n",
            "Total Electric Consumption: 707810.28\n",
            "Total Heating Consumption: 535457.36\n",
            "Total Water Consumption: 0\n",
            "DH - Consumption Totals\n",
            "Total Electric Consumption: 266511.0\n",
            "Total Heating Consumption: 342284.42\n",
            "Total Water Consumption: 1201.6\n",
            "KH - Consumption Totals\n",
            "Total Electric Consumption: 126365.5\n",
            "Total Heating Consumption: 21420.3\n",
            "Total Water Consumption: 203.49\n",
            "FB - Consumption Totals\n",
            "Total Electric Consumption: 582220.43\n",
            "Total Heating Consumption: 151366.34\n",
            "Total Water Consumption: 252576.0\n"
          ]
        }
      ]
    },
    {
      "cell_type": "code",
      "source": [
        "def make_carbon_footprints(key, building):\n",
        "  building['footprint']['electric_co2'] = round((building['consumption_totals']['electric_consumption'] * carbon_cost['electricity']['carbon']), 2)\n",
        "  building['footprint']['heating_co2'] = round((building['consumption_totals']['heat_consumption'] * carbon_cost['gas']['carbon']), 2)\n",
        "  building['footprint']['water_co2'] = round((building['consumption_totals']['water_consumption'] * carbon_cost['water']['carbon']), 2)\n",
        "  building['footprint']['total'] = round((building['footprint']['electric_co2'] + building['footprint']['heating_co2'] +  building['footprint']['water_co2']), 2)\n",
        "\n",
        "  print(f\"{key} - Carbon Footprint\")\n",
        "  print(f\"Electric Carbon Footprint: {building['footprint']['electric_co2']}\")\n",
        "  print(f\"Heating Carbon Footprint: {building['footprint']['heating_co2']}\")\n",
        "  print(f\"Water Carbon Footprint: {building['footprint']['water_co2']}\")\n",
        "  print(f\"Total Carbon Footprint: {building['footprint']['total']}\")\n",
        "  print(\"===================================================\")"
      ],
      "metadata": {
        "id": "i6NAtq5nXgL3"
      },
      "execution_count": 112,
      "outputs": []
    },
    {
      "cell_type": "code",
      "source": [
        "  for key, building in buildings.items():\n",
        "    make_carbon_footprints(key, building)"
      ],
      "metadata": {
        "colab": {
          "base_uri": "https://localhost:8080/"
        },
        "id": "eb5r7oLEZM4y",
        "outputId": "4ae71ccd-00e1-48ca-d2b6-dd84155a451b"
      },
      "execution_count": 113,
      "outputs": [
        {
          "output_type": "stream",
          "name": "stdout",
          "text": [
            "PGB - Carbon Footprint\n",
            "Electric Carbon Footprint: 136607.38\n",
            "Heating Carbon Footprint: 96382.32\n",
            "Water Carbon Footprint: 0.0\n",
            "Total Carbon Footprint: 232989.7\n",
            "===================================================\n",
            "DH - Carbon Footprint\n",
            "Electric Carbon Footprint: 51436.62\n",
            "Heating Carbon Footprint: 61611.2\n",
            "Water Carbon Footprint: 179.04\n",
            "Total Carbon Footprint: 113226.86\n",
            "===================================================\n",
            "KH - Carbon Footprint\n",
            "Electric Carbon Footprint: 24388.54\n",
            "Heating Carbon Footprint: 3855.65\n",
            "Water Carbon Footprint: 30.32\n",
            "Total Carbon Footprint: 28274.51\n",
            "===================================================\n",
            "FB - Carbon Footprint\n",
            "Electric Carbon Footprint: 112368.54\n",
            "Heating Carbon Footprint: 27245.94\n",
            "Water Carbon Footprint: 37633.82\n",
            "Total Carbon Footprint: 177248.3\n",
            "===================================================\n"
          ]
        }
      ]
    },
    {
      "cell_type": "code",
      "source": [
        "def make_energy_cost_total(key, building):\n",
        "  building['cost_totals']['electric_cost'] = round((building['consumption_totals']['electric_consumption'] * energy['electricity']['price']),2)\n",
        "  building['cost_totals']['heating_cost'] = round((building['consumption_totals']['heat_consumption'] * energy['gas']['price']),2)\n",
        "  building['cost_totals']['water_cost'] = round((building['consumption_totals']['water_consumption'] * energy['water']['price']),2)\n",
        "  building['cost_totals']['total_cost'] = round(( building['cost_totals']['electric_cost'] +  building['cost_totals']['heating_cost'] + building['cost_totals']['water_cost'] ),2)\n",
        "  print(f\"{key} - Total Energy Finanical Costs\")\n",
        "  print(f\"Electric Cost: £ {building['cost_totals']['electric_cost']}\")\n",
        "  print(f\"Heating Cost: £ {building['cost_totals']['heating_cost']}\")\n",
        "  print(f\"Water Cost: £ {building['cost_totals']['water_cost']}\")\n",
        "  print(f\"Total Cost: £ {building['cost_totals']['total_cost']}\")\n",
        "  print(\"===================================================\")"
      ],
      "metadata": {
        "id": "rmVRNJLPYceZ"
      },
      "execution_count": 114,
      "outputs": []
    },
    {
      "cell_type": "code",
      "source": [
        "  for key, building in buildings.items():\n",
        "    make_energy_cost_total(key, building)"
      ],
      "metadata": {
        "colab": {
          "base_uri": "https://localhost:8080/"
        },
        "id": "VkhroqLnZ2Xt",
        "outputId": "26041c73-4374-4932-caf4-58d56b91b316"
      },
      "execution_count": 115,
      "outputs": [
        {
          "output_type": "stream",
          "name": "stdout",
          "text": [
            "PGB - Total Energy Finanical Costs\n",
            "Electric Cost: £ 318514.63\n",
            "Heating Cost: £ 57293.94\n",
            "Water Cost: £ 0.0\n",
            "Total Cost: £ 375808.57\n",
            "===================================================\n",
            "DH - Total Energy Finanical Costs\n",
            "Electric Cost: £ 119929.95\n",
            "Heating Cost: £ 36624.43\n",
            "Water Cost: £ 444.59\n",
            "Total Cost: £ 156998.97\n",
            "===================================================\n",
            "KH - Total Energy Finanical Costs\n",
            "Electric Cost: £ 56864.48\n",
            "Heating Cost: £ 2291.97\n",
            "Water Cost: £ 75.29\n",
            "Total Cost: £ 59231.74\n",
            "===================================================\n",
            "FB - Total Energy Finanical Costs\n",
            "Electric Cost: £ 261999.19\n",
            "Heating Cost: £ 16196.2\n",
            "Water Cost: £ 93453.12\n",
            "Total Cost: £ 371648.51\n",
            "===================================================\n"
          ]
        }
      ]
    },
    {
      "cell_type": "code",
      "source": [
        "## Remove datasets from buildings so can write to json\n",
        "buildings['PGB']['dataset'] = \"\"\n",
        "buildings['DH']['dataset'] = \"\"\n",
        "buildings['KH']['dataset'] = \"\"\n",
        "buildings['FB']['dataset'] = \"\""
      ],
      "metadata": {
        "id": "S9xXRVucboaG"
      },
      "execution_count": 116,
      "outputs": []
    },
    {
      "cell_type": "code",
      "source": [
        "file_path = '/content/drive/My Drive/buildings.json'\n",
        "\n",
        "with open(file_path, 'w') as json_file:\n",
        "    json.dump(buildings, json_file, indent=4)"
      ],
      "metadata": {
        "id": "2O2mcDd9bYcR"
      },
      "execution_count": 117,
      "outputs": []
    },
    {
      "cell_type": "markdown",
      "source": [],
      "metadata": {
        "id": "00lH0mmEbYOt"
      }
    }
  ]
}